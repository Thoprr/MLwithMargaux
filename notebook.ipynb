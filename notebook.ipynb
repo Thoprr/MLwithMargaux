{
 "cells": [
  {
   "cell_type": "markdown",
   "metadata": {},
   "source": [
    "# Table des Matières\n",
    "1. [Introduction et Sélection des données](#intro)\n",
    "2. [Exploration et traitement des données](#traitement)\n",
    "3. [Modélisation et évaluation](#model)\n",
    "4. [Comunication des résultats](#comm)\n",
    "5. [Retour d'expérience](#retour) \n",
    "\n",
    "  \n",
    " \n",
    "\n",
    "---"
   ]
  },
  {
   "cell_type": "markdown",
   "metadata": {},
   "source": [
    "## Introduction et sélection des données <a class=\"anchor\" id=\"intro\"></a>"
   ]
  },
  {
   "cell_type": "markdown",
   "metadata": {},
   "source": [
    "lien data : https://drive.google.com/file/d/1nUbA6m3SQ9PXpc9i9tD6yADe0fDFYKTc/view?usp=drive_link"
   ]
  },
  {
   "cell_type": "markdown",
   "metadata": {},
   "source": [
    "Dans le cadre de notre projet de machine Learning, nous allons traiter un sujet d'apprentissage supervisé à partir de données ouvertes. Tout au long de notre projet, nous utiliserons l'IA générative pour nous aider dans notre travail. \n",
    "\n",
    "Dans un premier temps, nous commençons par demander à ChatGPT des idées de sujets.\n",
    "\n",
    "Jeu de données ML généré par l'IA \n",
    "- DPE (Analyse énergétique, classification des logements)\n",
    "- Transports en commun (prédiction affluence, optimisation trajet)\n",
    "- Pollution (prédiction des pics de pollution, classification zones polluées)\n",
    "- Reconnaissance d'image\n",
    "- Traitement du langage naturel\n",
    "- Donnée de santé\n",
    "- Donnée financière économique (prédiction de tendance..)\n",
    "\n",
    "Analyse critique de l'IA\n",
    "L'IA propose souvent des sujets très classiques, déjà réalisé. Il propose même des projets déjà tout fait sur Kaggle. Il manque d'originalité\n",
    "Donnée DPE \n",
    "\n",
    "Problématique générée avec L'IA :\n",
    "\n",
    "Peut-on prédire la consommation énergétique d’un logement à partir de ses caractéristiques issues du DPE ?\n",
    "-> sujet commun en ML\n",
    "\n",
    "Quels logements sont susceptibles d’être classés comme passoires thermiques (classe F ou G) ?\n",
    "-> Sujet choisi puisqu'il plus original que les autres \n",
    "\n",
    "Peut-on prédire la classe énergétique (A à G) d’un logement à partir des caractéristiques fournies par le DPE ?\n",
    "-> Sujet déjà réalisé"
   ]
  },
  {
   "cell_type": "code",
   "execution_count": 33,
   "metadata": {},
   "outputs": [],
   "source": [
    "import pandas as pd\n",
    "import numpy as np\n",
    "import matplotlib.pyplot as plt\n",
    "from sklearn.model_selection import train_test_split\n",
    "from sklearn.ensemble import RandomForestClassifier"
   ]
  },
  {
   "cell_type": "code",
   "execution_count": 39,
   "metadata": {},
   "outputs": [
    {
     "name": "stderr",
     "output_type": "stream",
     "text": [
      "/var/folders/rc/xhmcyg0x1d9b_n3m80ww6sxr0000gn/T/ipykernel_42037/3233007849.py:1: DtypeWarning: Columns (11,48,51,218,219,220,221,222) have mixed types. Specify dtype option on import or set low_memory=False.\n",
      "  df = pd.read_csv('data/data_dpe.csv')\n"
     ]
    }
   ],
   "source": [
    "df = pd.read_csv('data/data_dpe.csv')"
   ]
  },
  {
   "cell_type": "code",
   "execution_count": 41,
   "metadata": {},
   "outputs": [],
   "source": [
    "variables_importantes = [\n",
    "    # Consommations\n",
    "    'Conso_5_usages_é_finale', \n",
    "    'Conso_5_usages/m²_é_finale', \n",
    "    'Conso_chauffage_é_finale', \n",
    "    'Conso_ECS_é_finale',\n",
    "    \n",
    "    # Isolation\n",
    "    'Deperditions_baies_vitrées', \n",
    "    'Deperditions_enveloppe', \n",
    "    'Ubat_W/m²_K', \n",
    "    'Qualité_isolation_enveloppe',\n",
    "    \n",
    "    # Système de chauffage\n",
    "    'Type_installation_chauffage', \n",
    "    'Type_énergie_principale_chauffage', \n",
    "    'Type_émetteur_installation_chauffage_n°1',\n",
    "    \n",
    "    # Structure du bâtiment\n",
    "    'Année_construction', \n",
    "    'Période_construction', \n",
    "    'Surface_habitable_logement', \n",
    "    'Nombre_niveau_logement',\n",
    "    'Hauteur_sous-plafond',\n",
    "\n",
    "    \n",
    "    # Localisation\n",
    "    'Zone_climatique_', \n",
    "    'Classe_altitude', \n",
    "    'N°_région_(BAN)', \n",
    "    'N°_département_(BAN)',\n",
    "\n",
    "    # Etiquette \n",
    "    'Etiquette_GES',\n",
    "    'Etiquette_DPE'\n",
    "]\n",
    "\n",
    "df_filtered = df[variables_importantes]"
   ]
  },
  {
   "cell_type": "markdown",
   "metadata": {},
   "source": [
    "## Exploration et traitement des données <a class=\"anchor\" id=\"traitement\"></a>"
   ]
  },
  {
   "cell_type": "markdown",
   "metadata": {},
   "source": [
    "Critique de l'IA sur notre approche : \n",
    "Votre approche est bien structurée et inclut des variables clés dans des domaines pertinents pour prédire si un logement est une passoire thermique. \n",
    "\n",
    "Points positifs :\n",
    "Les variables sélectionnées correspondent bien à des déterminants majeurs de la performance énergétique.\n",
    "Vous incluez à la fois des variables quantitatives (ex. : consommation énergétique, déperditions) et qualitatives (ex. : type d'installation de chauffage, zone climatique), ce qui permet une modélisation riche.\n",
    "\n",
    "Critiques et suggestions :\n",
    "\n",
    "Les bases de données DPE peuvent contenir des valeurs manquantes ou aberrantes (ex. : surfaces non renseignées, consommations incohérentes).\n",
    "Vérifiez les distributions des variables pour détecter des anomalies.\n",
    "Plusieurs variables peuvent être fortement corrélées. Une analyse des corrélations peut être utile.\n",
    "Les passoires thermiques (F et G) pourraient représenter une minorité des données. Cela peut biaiser l’entraînement du modèle.\n",
    "Les bâtiments anciens sont souvent surreprésentés parmi les passoires thermiques, ce qui peut conduire le modèle à négliger d'autres facteurs. Une analyse exploratoire approfondie est nécessaire.\n",
    "Les algorithmes robustes pour ce type de problème incluent :\n",
    " Forêts aléatoires (Random Forests): pour leur interprétabilité et leur capacité à gérer des variables mixtes.\n",
    " Gradient Boosting (XGBoost, LightGBM) : pour leur performance sur des ensembles déséquilibrés.\n",
    " Réseaux de neurones : si les données sont enrichies avec des caractéristiques complexes (géographiques, temporelles)."
   ]
  }
 ],
 "metadata": {
  "kernelspec": {
   "display_name": "Python 3",
   "language": "python",
   "name": "python3"
  },
  "language_info": {
   "codemirror_mode": {
    "name": "ipython",
    "version": 3
   },
   "file_extension": ".py",
   "mimetype": "text/x-python",
   "name": "python",
   "nbconvert_exporter": "python",
   "pygments_lexer": "ipython3",
   "version": "3.13.0"
  }
 },
 "nbformat": 4,
 "nbformat_minor": 2
}
